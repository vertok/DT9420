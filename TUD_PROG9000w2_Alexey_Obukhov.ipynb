{
 "cells": [
  {
   "cell_type": "code",
   "execution_count": 3,
   "metadata": {},
   "outputs": [
    {
     "name": "stdin",
     "output_type": "stream",
     "text": [
      "Write down the amount of sugar in the cake:  555\n"
     ]
    },
    {
     "name": "stdout",
     "output_type": "stream",
     "text": [
      "that cake belongs to the category A, be careful with it!\n"
     ]
    }
   ],
   "source": [
    "#exercise 1. cakes\n",
    "s=input(\"Write down the amount of sugar in the cake: \")\n",
    "if int(s)<300:\n",
    "    print(\"That cake is in C category\")\n",
    "elif int(s)<500:\n",
    "    print(\"That cake is in B category\")\n",
    "else:\n",
    "    print(\"that cake belongs to the category A, be careful with it!\")"
   ]
  },
  {
   "cell_type": "code",
   "execution_count": 15,
   "metadata": {},
   "outputs": [
    {
     "name": "stdin",
     "output_type": "stream",
     "text": [
      "Print the year down:  3333\n",
      "Print the number of a the month:  2\n",
      "Print the day:  29\n"
     ]
    },
    {
     "name": "stdout",
     "output_type": "stream",
     "text": [
      "in february there is only 28 days, try it again\n"
     ]
    }
   ],
   "source": [
    "#exercise 2. calendar\n",
    "month_full=[1,3,5,7,8,10,12]\n",
    "year=input(\"Print the year down: \")\n",
    "month=input(\"Print the number of a the month: \")\n",
    "day=input(\"Print the day: \")\n",
    "if (int(month)==2 and int(day)<=28): #proof for feb. feb has max 28 days\n",
    "    print(\"Correct input!\", day, \".\", month, \".\", year)\n",
    "elif (int(month)==2 and int(day)>28):\n",
    "    print(\"in february there is only 28 days, try it again\")\n",
    "elif (int(month) in month_full and int(day)<=31): #proof whether month has 31 days and the date was correct\n",
    "    print(\"Correct input!\", day,\".\",month,\".\",year)\n",
    "elif (int(month) not in month_full and int(day)<=30):#same proof for months which have only 30 days\n",
    "    print(\"Correct input!\",day,\".\",month,\".\",year)\n",
    "else:\n",
    "    print(\"something went wrong...\") #when user did something wrong he will get this message"
   ]
  },
  {
   "cell_type": "code",
   "execution_count": 3,
   "metadata": {},
   "outputs": [
    {
     "name": "stdout",
     "output_type": "stream",
     "text": [
      "Enter a date (i.e. 2017,7,1)2012,12,12\n",
      "Enter a date (i.e. 2017,7,1)2020,12,12\n",
      "2012-12-12 00:00:00 ; 2020-12-12 00:00:00\n"
     ]
    }
   ],
   "source": [
    "#exercise 3. compare 2 dates\n",
    "from datetime import datetime\n",
    "\n",
    "date_entry1 = input('Enter a date (i.e. 2017,7,1)')\n",
    "year1, month1, day1 = map(int, date_entry1.split(','))\n",
    "date1 = datetime(year1, month1, day1)\n",
    "date_entry2 = input('Enter a date (i.e. 2017,7,1)')\n",
    "year2, month2, day2 = map(int, date_entry2.split(','))\n",
    "date2 = datetime(year2, month2, day2)\n",
    "if date1<date2:\n",
    "    print(date1,\";\",date2)\n",
    "else:\n",
    "    print(date2,\";\",date1)"
   ]
  },
  {
   "cell_type": "code",
   "execution_count": 236,
   "metadata": {},
   "outputs": [
    {
     "name": "stdin",
     "output_type": "stream",
     "text": [
      "tipp please the year number: 3333\n"
     ]
    },
    {
     "name": "stdout",
     "output_type": "stream",
     "text": [
      "That wasn't a leap year!\n"
     ]
    }
   ],
   "source": [
    "#exercise 4 leap year\n",
    "year=input(\"tipp please the year number:\")\n",
    "y=int(year)\n",
    "if y%4==0:\n",
    "    if y%100==0:\n",
    "        if y%400==0:\n",
    "            print(\"That was a leap year!\")\n",
    "        else:\n",
    "            print(\"That was not a leap year!\")\n",
    "    else:\n",
    "        print(\"That was still a leap year!\")\n",
    "else:\n",
    "    print(\"That wasn't a leap year!\")"
   ]
  },
  {
   "cell_type": "code",
   "execution_count": 242,
   "metadata": {},
   "outputs": [
    {
     "name": "stdin",
     "output_type": "stream",
     "text": [
      "a= 1\n",
      "b= 6\n",
      "c= 3\n"
     ]
    },
    {
     "name": "stdout",
     "output_type": "stream",
     "text": [
      "[-0.5505102572168221, -5.449489742783178]\n"
     ]
    }
   ],
   "source": [
    "#exercise 5 discriminant\n",
    "import math #to use sqrt()\n",
    "a=float(input(\"a=\"))\n",
    "b=float(input(\"b=\"))\n",
    "c=float(input(\"c=\"))\n",
    "result = []\n",
    "result.append((-b+(b**2-4*a*c)**0.5)/(2*a))\n",
    "result.append((-b-(b**2-4*a*c)**0.5)/(2*a))\n",
    "print(result)\n",
    "\n",
    "#d=b*b-4*a*c\n",
    "#print(-b+math.sqrt(d))\n",
    "#if (d<0):\n",
    "#    print(\"no real roots\")\n",
    "#elif (d==0):\n",
    "#    print(\"one root=\",-b/(2*a))\n",
    "#else:\n",
    "#    print(\"root 1=\",((-b+math.sqrt(d))/(2*a),\"root2=\",((-b-math.sqrt(d))/(2*a))))#todo why 'root2=' in output?\n"
   ]
  },
  {
   "cell_type": "code",
   "execution_count": 95,
   "metadata": {},
   "outputs": [
    {
     "name": "stdout",
     "output_type": "stream",
     "text": [
      "root 1= (-0.859945055359741, 'root2=', -8.140054944640259)\n"
     ]
    }
   ],
   "source": [
    "#exercise 6 quadratic equation\n",
    "import math #to use sqrt()\n",
    "import random #to use random\n",
    "a=random.randrange (1,15,1)\n",
    "#print(a)\n",
    "b=int(random.randrange(15))\n",
    "#print(b)\n",
    "c=int(random.randrange(15))\n",
    "#print(c)\n",
    "d=b*b-4*a*c\n",
    "#print(d)\n",
    "if (d<0):\n",
    "    print(\"no real roots\")\n",
    "elif (d==0):\n",
    "    print(\"one root=\",-b/(2*a))\n",
    "else:\n",
    "    print(\"root 1=\",((-b+math.sqrt(d))/(2*a),\"root2=\",((-b-math.sqrt(d))/(2*a))))"
   ]
  },
  {
   "cell_type": "code",
   "execution_count": 135,
   "metadata": {},
   "outputs": [
    {
     "name": "stdout",
     "output_type": "stream",
     "text": [
      "a = 4\n",
      "today is Th\n"
     ]
    }
   ],
   "source": [
    "#exercise 7 pseuderandom day of the week\n",
    "import random\n",
    "week=[\"Mo\",\"Tu\",\"We\",\"Th\",\"Fr\",\"Sa\",\"So\"] #it is a list! not an array\n",
    "a=random.randrange (1,7,1)\n",
    "print(\"a =\",a)\n",
    "print(\"today is\",week[a-1]) #because list starts from 0 element and here is number from 1 to 7"
   ]
  },
  {
   "cell_type": "code",
   "execution_count": 150,
   "metadata": {},
   "outputs": [
    {
     "name": "stdin",
     "output_type": "stream",
     "text": [
      "Choose a month:  12\n"
     ]
    },
    {
     "name": "stdout",
     "output_type": "stream",
     "text": [
      "Winter\n"
     ]
    }
   ],
   "source": [
    "#exercise 8 seasons\n",
    "seasons = {'Winter': (1, 2, 12),\n",
    "           'Sping': (3, 4, 5),\n",
    "           'Summer': (6, 7, 8),\n",
    "           'Autumn': (9, 10, 11)}    \n",
    "month = int(input('Choose a month: '))\n",
    "for key in seasons.keys():\n",
    "    if month in seasons[key]:\n",
    "        print(key)\n"
   ]
  },
  {
   "cell_type": "code",
   "execution_count": 220,
   "metadata": {},
   "outputs": [
    {
     "name": "stdin",
     "output_type": "stream",
     "text": [
      "a= 3\n",
      "b= 6\n",
      "c= 4\n"
     ]
    },
    {
     "name": "stdout",
     "output_type": "stream",
     "text": [
      "6\n"
     ]
    }
   ],
   "source": [
    "def maximum(a, b, c):  #we need a functional here because max(a,b) can compaire only two values\n",
    "    if (a >= b) and (a >= c): \n",
    "        largest = a \n",
    "    elif (b >= a) and (b >= c): \n",
    "        largest = b \n",
    "    else: \n",
    "        largest = c     \n",
    "    return largest  \n",
    "a=int(input(\"a=\"))\n",
    "b=int(input(\"b=\"))\n",
    "c=int(input(\"c=\"))\n",
    "print(maximum(a, b, c)) "
   ]
  },
  {
   "cell_type": "code",
   "execution_count": 206,
   "metadata": {},
   "outputs": [
    {
     "name": "stdin",
     "output_type": "stream",
     "text": [
      "a= 3\n",
      "b= 6\n",
      "c= 5\n"
     ]
    },
    {
     "name": "stdout",
     "output_type": "stream",
     "text": [
      "as conclusion  numbers are different\n"
     ]
    }
   ],
   "source": [
    "#exeercise 10 complainig numbers\n",
    "a=int(input(\"a=\"))\n",
    "b=int(input(\"b=\"))\n",
    "c=int(input(\"c=\"))\n",
    "sentence=[\"numbers are different\",\"two numbers are the same\",\"all three numbers are the same\"]\n",
    "eq=0\n",
    "if a==c:\n",
    "    eq=1\n",
    "if a==b:\n",
    "    eq=eq+1\n",
    "if b==c:\n",
    "    eq=eq+1\n",
    "if eq==3:\n",
    "    eq=eq-1\n",
    "print(\"as conclusion \",sentence[eq])"
   ]
  },
  {
   "cell_type": "code",
   "execution_count": 244,
   "metadata": {},
   "outputs": [
    {
     "name": "stdin",
     "output_type": "stream",
     "text": [
      "a= 5\n",
      "b= 5\n",
      "c= 5\n"
     ]
    },
    {
     "name": "stdout",
     "output_type": "stream",
     "text": [
      "5\n"
     ]
    }
   ],
   "source": [
    "#exercise 11 smallest value\n",
    "a=int(input(\"a=\"))\n",
    "b=int(input(\"b=\"))\n",
    "c=int(input(\"c=\"))\n",
    "def minimum(a, b, c): #and the same for minimum\n",
    "    if (a <= b) and (a <= c): \n",
    "        smallest = a \n",
    "    elif (b <= a) and (b <= c): \n",
    "        smallest = b \n",
    "    else: \n",
    "        smallest = c     \n",
    "    return smallest\n",
    "print(minimum(a, b, c)) \n"
   ]
  },
  {
   "cell_type": "code",
   "execution_count": 232,
   "metadata": {},
   "outputs": [
    {
     "name": "stdin",
     "output_type": "stream",
     "text": [
      "a= 4\n",
      "b= 9\n",
      "c= 9\n"
     ]
    },
    {
     "name": "stdout",
     "output_type": "stream",
     "text": [
      "9   9   4\n"
     ]
    }
   ],
   "source": [
    "#exercise 12 dirfferent sequence\n",
    "a=int(input(\"a=\"))\n",
    "b=int(input(\"b=\"))\n",
    "c=int(input(\"c=\"))\n",
    "def maximum(a, b, c):  #we need a functional here because max(a,b) can compaire only two values\n",
    "    if (a >= b) and (a >= c): \n",
    "        largest = a \n",
    "    elif (b >= a) and (b >= c): \n",
    "        largest = b \n",
    "    else: \n",
    "        largest = c     \n",
    "    return largest\n",
    "def minimum(a, b, c): #and the same for minimum\n",
    "    if (a <= b) and (a <= c): \n",
    "        smallest = a \n",
    "    elif (b <= a) and (b <= c): \n",
    "        smallest = b \n",
    "    else: \n",
    "        smallest = c     \n",
    "    return smallest\n",
    "\n",
    "maxim = maximum(a,b,c)\n",
    "minim =  minimum(a,b,c)\n",
    "summa = (a+b+c)-minim-maxim\n",
    "print(maxim,\" \",summa,\" \",minim)"
   ]
  }
 ],
 "metadata": {
  "kernelspec": {
   "display_name": "Python 3",
   "language": "python",
   "name": "python3"
  },
  "language_info": {
   "codemirror_mode": {
    "name": "ipython",
    "version": 3
   },
   "file_extension": ".py",
   "mimetype": "text/x-python",
   "name": "python",
   "nbconvert_exporter": "python",
   "pygments_lexer": "ipython3",
   "version": "3.7.3"
  }
 },
 "nbformat": 4,
 "nbformat_minor": 4
}
