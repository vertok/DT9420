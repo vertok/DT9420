{
 "cells": [
  {
   "cell_type": "code",
   "execution_count": 5,
   "metadata": {},
   "outputs": [
    {
     "name": "stdout",
     "output_type": "stream",
     "text": [
      "write any text where you would like to count the number of times a character appears: I kile python programming\n",
      "write a character you would like to count in that string: p\n",
      "p appears 2 times\n"
     ]
    }
   ],
   "source": [
    "#exercise 1. Write a Python program to count the number of times \n",
    "#a character appears in a string\n",
    "test_str = input(\"write any text where you would like to count the number of times a character appears: \")\n",
    "test_character = input(\"write a character you would like to count in that string: \")\n",
    "count = 0  \n",
    "for i in test_str: \n",
    "    if i == test_character: \n",
    "        count = count + 1\n",
    "print(test_character, \"appears\",count, \"times\")"
   ]
  },
  {
   "cell_type": "code",
   "execution_count": 6,
   "metadata": {},
   "outputs": [
    {
     "name": "stdout",
     "output_type": "stream",
     "text": [
      "write any text where you would like to count the number of times a character appears: I like python programming\n",
      "I   n g\n"
     ]
    }
   ],
   "source": [
    "#exercise 2. Write a Python program to get a string made of \n",
    "#the first 2 and the last 2 characters from a given string.\n",
    "test_str = input(\"write any text you wanna deal with: \")\n",
    "str_len = len(test_str)\n",
    "if str_len <= 2:\n",
    "    print(test_str)\n",
    "else:\n",
    "    print(test_str[0],test_str[1],test_str[str_len-2],test_str[str_len-1])\n"
   ]
  },
  {
   "cell_type": "code",
   "execution_count": 26,
   "metadata": {},
   "outputs": [
    {
     "name": "stdout",
     "output_type": "stream",
     "text": [
      "write any text you wanna deal with: ycds\n",
      "write any text you wanna deal with: huh\n",
      "huds ych\n"
     ]
    }
   ],
   "source": [
    "#exercise 3. Write a Python program to get a single string \n",
    "#from two given strings, separated by a space and swap the \n",
    "#first two characters of each string.\n",
    "test_str1 = input(\"write any text you wanna deal with: \")\n",
    "test_str2 = input(\"write any text you wanna deal with: \")\n",
    "def chars_mix_up(a, b):\n",
    "  new_a = b[:2] + a[2:]  \n",
    "  new_b = a[:2] + b[2:]\n",
    "  return new_a + ' ' + new_b\n",
    "print(chars_mix_up(test_str1, test_str2))\n"
   ]
  },
  {
   "cell_type": "code",
   "execution_count": 1,
   "metadata": {},
   "outputs": [
    {
     "name": "stdout",
     "output_type": "stream",
     "text": [
      "Python\n"
     ]
    }
   ],
   "source": [
    "#exercise 4. Write a Python function that takes a list of words and\n",
    "#returns the length of the longest one\n",
    "def find_longest_word(words_list):\n",
    "    word_len = []\n",
    "    for n in words_list:\n",
    "        word_len.append((len(n), n))\n",
    "    word_len.sort()\n",
    "    return word_len[-1][1]\n",
    "print(find_longest_word([\"I\", \"Like\", \"Python\"]))"
   ]
  },
  {
   "cell_type": "code",
   "execution_count": 1,
   "metadata": {},
   "outputs": [
    {
     "name": "stdout",
     "output_type": "stream",
     "text": [
      "{1: 1, 2: 4, 3: 9, 4: 16, 5: 25, 6: 36, 7: 49, 8: 64, 9: 81, 10: 100, 11: 121, 12: 144, 13: 169, 14: 196, 15: 225}\n"
     ]
    }
   ],
   "source": [
    "#Dicts\n",
    "#exercise 1. Write a Python script to print a dictionary where \n",
    "#the keys are numbers between 1 and 15 (both included) and the \n",
    "#values are the square of the key.\n",
    "dictionary = dict()\n",
    "i=1\n",
    "while i<=15:\n",
    "    dictionary[i]=i**2\n",
    "    i=i+1\n",
    "print(dictionary)"
   ]
  },
  {
   "cell_type": "code",
   "execution_count": 10,
   "metadata": {},
   "outputs": [
    {
     "name": "stdout",
     "output_type": "stream",
     "text": [
      "1360\n"
     ]
    }
   ],
   "source": [
    "#exercise 2. Write a Python program to sum all the items in the dictionary you made above.\n",
    "dictionary = dict()\n",
    "i=1\n",
    "while i<=15:\n",
    "    dictionary[i]=i**2\n",
    "    i=i+1\n",
    "summ=0\n",
    "for i in dictionary.keys(): \n",
    "    summ=summ+i+dictionary[i]\n",
    "print(summ)"
   ]
  },
  {
   "cell_type": "code",
   "execution_count": 17,
   "metadata": {},
   "outputs": [
    {
     "name": "stdout",
     "output_type": "stream",
     "text": [
      "[('x', 500), ('z', 560), ('y', 5874)]\n",
      "min:  ('x', 500) max: ('y', 5874)\n"
     ]
    }
   ],
   "source": [
    "#exercise 3. Write a Python program to get the maximum and minimum value in a dictionary.\n",
    "sample_dict = {'x':500, 'y':5874, 'z': 560}\n",
    "res = sorted(sample_dict.items(),key=lambda x: x[1])\n",
    "print(res)\n",
    "print(\"min: \",res[0],\"max:\",res[-1])"
   ]
  },
  {
   "cell_type": "code",
   "execution_count": 9,
   "metadata": {},
   "outputs": [
    {
     "name": "stdout",
     "output_type": "stream",
     "text": [
      "Whether you would like to add a person to the phone book type 'y'\n",
      "whether you wanna search for person type 's'\n",
      "- y\n",
      "{'name': {'phone': 'PhonyNum', 'email': 'email', 'date_of_birth': 'Pony birth'}}\n",
      "Type their full name\n",
      " - a\n",
      "Type their phone number\n",
      " - a\n",
      "Type their email adress\n",
      " - a\n",
      "Type their date of birth\n",
      " - a\n",
      "Would you like to quit y/n \n",
      " - n\n",
      "Whether you would like to add a person to the phone book type 'y'\n",
      "whether you wanna search for person type 's'\n",
      "- y\n",
      "{'name': {'phone': 'PhonyNum', 'email': 'email', 'date_of_birth': 'Pony birth'}, 'a': {'phone': 'a', 'email': 'a', 'date_of_birth': 'a'}}\n",
      "Type their full name\n",
      " - b\n",
      "Type their phone number\n",
      " - b\n",
      "Type their email adress\n",
      " - b\n",
      "Type their date of birth\n",
      " - b\n",
      "Would you like to quit y/n \n",
      " - n\n",
      "Whether you would like to add a person to the phone book type 'y'\n",
      "whether you wanna search for person type 's'\n",
      "- s\n",
      "{'name': {'phone': 'PhonyNum', 'email': 'email', 'date_of_birth': 'Pony birth'}, 'a': {'phone': 'a', 'email': 'a', 'date_of_birth': 'a'}, 'b': {'phone': 'b', 'email': 'b', 'date_of_birth': 'b'}}\n",
      "Type the name you are looking for\n",
      " -a\n",
      "this person is in phonebook!\n",
      "their data is: {'phone': 'a', 'email': 'a', 'date_of_birth': 'a'}\n",
      "Would you like to quit y/n \n",
      " - y\n"
     ]
    }
   ],
   "source": [
    "#exercise 4. Create a program which takes input from the user - they should enter a name, \n",
    "#followed by a phone number, an email address and a date of birth. Use a dictionary to store \n",
    "#the information. Allow the user to keep adding names and information to the dictionary until \n",
    "#they want to stop. Then ask them do they want to look up a person's information and disply\n",
    "#it in a nicely printed output.\n",
    "adressDict = {'name' : {'phone' : 'PhonyNum', 'email' : 'email' , 'date_of_birth' : 'Pony birth'}}\n",
    " \n",
    "def addPerson():\n",
    "    name = input('Type their full name\\n - ')\n",
    "    phone = input('Type their phone number\\n - ')\n",
    "    email = input('Type their email adress\\n - ')\n",
    "    date_of_birth = input('Type their date of birth\\n - ')\n",
    "    adressDict.update({name : {'phone' : phone, 'email' : email, 'date_of_birth' : date_of_birth}})\n",
    "    \n",
    "\n",
    "def indexPerson():\n",
    "    name=input('Type the name you are looking for\\n -')\n",
    "    if name in adressDict.keys():\n",
    "        print('this person is in phonebook!')\n",
    "        print('their data is:',adressDict[name])\n",
    "    else:\n",
    "        print('person was not found!')\n",
    "\n",
    "def yesNo():\n",
    "    yesNo = input('Whether you would like to add a person to the phone book type \\'y\\'\\nwhether you wanna search for person type \\'s\\'\\n- ')\n",
    "    print(adressDict)\n",
    "    if yesNo == 's':\n",
    "        indexPerson()\n",
    "    elif yesNo == 'y':\n",
    "        addPerson()\n",
    "    else:\n",
    "        print('Invalid response')\n",
    "        \n",
    "def main():\n",
    "    while True:\n",
    "        yesNo()\n",
    "        Quit = input('Would you like to quit y/n \\n - ')\n",
    "        if Quit == 'n':\n",
    "            pass\n",
    "        elif Quit == 'y':\n",
    "            break\n",
    "        else:\n",
    "            print('Invalid response')\n",
    "            \n",
    " \n",
    "main()"
   ]
  },
  {
   "cell_type": "code",
   "execution_count": 10,
   "metadata": {},
   "outputs": [
    {
     "name": "stdout",
     "output_type": "stream",
     "text": [
      "{'name': {'phone': 'PhonyNum', 'email': 'email', 'date_of_birth': 'Pony birth'}, 'a': {'phone': 'a', 'email': 'a', 'date_of_birth': 'a'}, 'b': {'phone': 'b', 'email': 'b', 'date_of_birth': 'b'}}\n"
     ]
    }
   ],
   "source": [
    "print(adressDict)"
   ]
  }
 ],
 "metadata": {
  "kernelspec": {
   "display_name": "Python 3",
   "language": "python",
   "name": "python3"
  }
 },
 "nbformat": 4,
 "nbformat_minor": 2
}
