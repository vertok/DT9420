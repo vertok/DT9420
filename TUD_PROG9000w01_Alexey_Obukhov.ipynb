{
 "cells": [
  {
   "cell_type": "code",
   "execution_count": null,
   "metadata": {},
   "outputs": [],
   "source": [
    "#exercise 1\n",
    "#calculates the distance between 2 points\n",
    "# assign values to variables\n",
    "x1 = 1\n",
    "x2 = 3\n",
    "y1 = 2\n",
    "y2 = 4\n",
    "\n",
    "# write formula\n",
    "d = ((x2 - x1)**2 + (y2 - y1)**2)**0.5\n",
    "\n",
    "# output the answer \n",
    "# note we convert the numeric d to a string before \n",
    "# output with the str() function\n",
    "\n",
    "print(str(d))\n",
    "\n",
    "#exercise 2\n",
    "#calculate the number of days which the given month has\n",
    "month = input(\"Please enter the numeric value of the month - eg 4 for April \")\n",
    "print('Month',month)\n",
    "if month == '2':\n",
    "    print(\"28 or sometimes 29\")\n",
    "elif month == '9':\n",
    "    print(\"30\")\n",
    "elif month == '4':\n",
    "    print(\"30\")\n",
    "elif month == '6':\n",
    "    print(\"30\")\n",
    "elif int(month) == 11: #one can work here direct with int instead of str as was before\n",
    "    print(\"30\")\n",
    "else:\n",
    "    print(\"31\")\n",
    "\n",
    "#calculates the sphere volume\n",
    "r = input(\"Please write down the radius of the sphere. r= \")\n",
    "Squere=4/3*3.1415*int(r)\n",
    "print(\"Volume of squere =\",Squere) \n",
    "\n",
    "#exercise 3 calc\n",
    "#calc which can calculate volume, CelIntoFah or FahIntoCel\n",
    "i = input(print(\"What do you want to calc v/f(FtoC)/c(CtoF)? \"))  \n",
    "if (i == 'v'):#calculate volume of Cilynder\n",
    "    h = input(\"Print the h from cylinder \")\n",
    "    r = input(\"Print the r from cylinder \")\n",
    "    v = 3.1415*int(h)*int(r)\n",
    "    print(\"Volume = \",v) \n",
    "elif (i == 'f'):#calculate Fahrenheit into Celcius    \n",
    "    f = input(\"Print temp in F \")\n",
    "    print((float(f)-32)/1.8)\n",
    "elif (i == 'c'): #calculate Celcius into Fahrenheit\n",
    "    c = input(\"Print temp in C \")\n",
    "    print((float(c)*1.8+32))\n",
    "else:\n",
    "    print(\"something goes wrong...\") "
   ]
  }
 ],
 "metadata": {
  "kernelspec": {
   "display_name": "Python 3",
   "language": "python",
   "name": "python3"
  },
  "language_info": {
   "codemirror_mode": {
    "name": "ipython",
    "version": 3
   },
   "file_extension": ".py",
   "mimetype": "text/x-python",
   "name": "python",
   "nbconvert_exporter": "python",
   "pygments_lexer": "ipython3",
   "version": "3.7.3"
  }
 },
 "nbformat": 4,
 "nbformat_minor": 4
}
